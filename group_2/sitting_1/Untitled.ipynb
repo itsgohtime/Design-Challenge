{
 "cells": [
  {
   "cell_type": "code",
   "execution_count": 32,
   "id": "c66b73f6-f186-4565-9537-927eedce8b44",
   "metadata": {},
   "outputs": [
    {
     "name": "stdout",
     "output_type": "stream",
     "text": [
      "The number of samples for the wrist motion data is  2479\n",
      "The number of samples for the heart rate data is  13\n",
      "The number of samples for the barometer data is  62\n"
     ]
    },
    {
     "ename": "IndexError",
     "evalue": "invalid index to scalar variable.",
     "output_type": "error",
     "traceback": [
      "\u001b[1;31m---------------------------------------------------------------------------\u001b[0m",
      "\u001b[1;31mIndexError\u001b[0m                                Traceback (most recent call last)",
      "\u001b[1;32m<ipython-input-32-5fb93569ab7a>\u001b[0m in \u001b[0;36m<module>\u001b[1;34m\u001b[0m\n\u001b[0;32m     19\u001b[0m \u001b[0mSeconds_Elapsed_SameerWalkingBarometer\u001b[0m \u001b[1;33m=\u001b[0m \u001b[0mdf_SameerWalkingWrist\u001b[0m\u001b[1;33m[\u001b[0m\u001b[1;33m[\u001b[0m\u001b[1;34m'seconds_elapsed'\u001b[0m\u001b[1;33m]\u001b[0m\u001b[1;33m]\u001b[0m\u001b[1;33m.\u001b[0m\u001b[0mvalues\u001b[0m\u001b[1;33m\u001b[0m\u001b[1;33m\u001b[0m\u001b[0m\n\u001b[0;32m     20\u001b[0m \u001b[1;33m\u001b[0m\u001b[0m\n\u001b[1;32m---> 21\u001b[1;33m \u001b[0mSamplingRateWrist\u001b[0m \u001b[1;33m=\u001b[0m \u001b[0mNumberOfSamples_SameerWalkingWrist\u001b[0m\u001b[1;33m[\u001b[0m\u001b[1;36m0\u001b[0m\u001b[1;33m]\u001b[0m \u001b[1;33m/\u001b[0m \u001b[0mSeconds_Elapsed_SameerWalkingWrist\u001b[0m\u001b[1;33m[\u001b[0m\u001b[1;33m-\u001b[0m\u001b[1;36m1\u001b[0m\u001b[1;33m]\u001b[0m\u001b[1;33m\u001b[0m\u001b[1;33m\u001b[0m\u001b[0m\n\u001b[0m\u001b[0;32m     22\u001b[0m \u001b[0mSamplingRateHeartRate\u001b[0m \u001b[1;33m=\u001b[0m \u001b[0mNumberOfSamples_SameerWalkingHeartRate\u001b[0m\u001b[1;33m[\u001b[0m\u001b[1;36m0\u001b[0m\u001b[1;33m]\u001b[0m \u001b[1;33m/\u001b[0m \u001b[0mSeconds_Elapsed_SameerWalkingWrist\u001b[0m\u001b[1;33m[\u001b[0m\u001b[1;33m-\u001b[0m\u001b[1;36m1\u001b[0m\u001b[1;33m]\u001b[0m\u001b[1;33m\u001b[0m\u001b[1;33m\u001b[0m\u001b[0m\n\u001b[0;32m     23\u001b[0m \u001b[0mSamplingRateBarometer\u001b[0m \u001b[1;33m=\u001b[0m \u001b[0mNumberOfSamples_SameerWalkingBarometer\u001b[0m\u001b[1;33m[\u001b[0m\u001b[1;36m0\u001b[0m\u001b[1;33m]\u001b[0m \u001b[1;33m/\u001b[0m \u001b[0mSeconds_Elapsed_SameerWalkingWrist\u001b[0m\u001b[1;33m[\u001b[0m\u001b[1;33m-\u001b[0m\u001b[1;36m1\u001b[0m\u001b[1;33m]\u001b[0m\u001b[1;33m\u001b[0m\u001b[1;33m\u001b[0m\u001b[0m\n",
      "\u001b[1;31mIndexError\u001b[0m: invalid index to scalar variable."
     ]
    }
   ],
   "source": [
    "import pandas as pd \n",
    "import numpy as np \n",
    "\n",
    "df_SameerWalkingWrist = pd.read_csv('Sameer_Walking/WristMotion.csv')\n",
    "df_SameerWalkingHeartRate = pd.read_csv('Sameer_Walking/HeartRate.csv')\n",
    "df_SameerWalkingBarometer = pd.read_csv('Sameer_Walking/Barometer.csv')\n",
    "df_SameerWalkingMetaData = pd.read_csv('Sameer_Walking/MetaData.csv')\n",
    "\n",
    "NumberOfSamples_SameerWalkingWrist = df_SameerWalkingWrist.count().values[0]\n",
    "NumberOfSamples_SameerWalkingHeartRate = df_SameerWalkingHeartRate.count().values[0]\n",
    "NumberOfSamples_SameerWalkingBarometer = df_SameerWalkingBarometer.count().values[0]\n",
    "\n",
    "print(\"The number of samples for the wrist motion data is \", NumberOfSamples_SameerWalkingWrist)\n",
    "print(\"The number of samples for the heart rate data is \", NumberOfSamples_SameerWalkingHeartRate)\n",
    "print(\"The number of samples for the barometer data is \",NumberOfSamples_SameerWalkingBarometer)\n",
    "\n",
    "Seconds_Elapsed_SameerWalkingWrist = df_SameerWalkingWrist[['seconds_elapsed']].values\n",
    "Seconds_Elapsed_SameerWalkingHeartRate = df_SameerWalkingWrist[['seconds_elapsed']].values\n",
    "Seconds_Elapsed_SameerWalkingBarometer = df_SameerWalkingWrist[['seconds_elapsed']].values\n",
    "\n",
    "SamplingRateWrist = NumberOfSamples_SameerWalkingWrist[0] / Seconds_Elapsed_SameerWalkingWrist[-1]\n",
    "SamplingRateHeartRate = NumberOfSamples_SameerWalkingHeartRate[0] / Seconds_Elapsed_SameerWalkingWrist[-1]\n",
    "SamplingRateBarometer = NumberOfSamples_SameerWalkingBarometer[0] / Seconds_Elapsed_SameerWalkingWrist[-1]\n",
    "\n",
    "print(\"The sampling rate for the wrist motion data is \", SamplingRateWrist)\n",
    "print(\"The sampling rate for the heart rate data is \", SamplingRateHeartRate)\n",
    "print(\"The sampling rate for the barometer data is \",SamplingRateBarometer)\n"
   ]
  },
  {
   "cell_type": "code",
   "execution_count": null,
   "id": "e09c8891-8c6e-44a9-9b05-c63549967177",
   "metadata": {},
   "outputs": [],
   "source": []
  },
  {
   "cell_type": "code",
   "execution_count": null,
   "id": "a431e14a-2741-46fc-bf27-a229798cd0a2",
   "metadata": {},
   "outputs": [],
   "source": []
  }
 ],
 "metadata": {
  "kernelspec": {
   "display_name": "Python 3",
   "language": "python",
   "name": "python3"
  },
  "language_info": {
   "codemirror_mode": {
    "name": "ipython",
    "version": 3
   },
   "file_extension": ".py",
   "mimetype": "text/x-python",
   "name": "python",
   "nbconvert_exporter": "python",
   "pygments_lexer": "ipython3",
   "version": "3.8.8"
  }
 },
 "nbformat": 4,
 "nbformat_minor": 5
}
